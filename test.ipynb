{
 "metadata": {
  "language_info": {
   "codemirror_mode": {
    "name": "ipython",
    "version": 3
   },
   "file_extension": ".py",
   "mimetype": "text/x-python",
   "name": "python",
   "nbconvert_exporter": "python",
   "pygments_lexer": "ipython3",
   "version": "3.8.5-final"
  },
  "orig_nbformat": 2,
  "kernelspec": {
   "name": "python38264bita41e7facbbd14ee78b8cca321de94238",
   "display_name": "Python 3.8.2 64-bit"
  }
 },
 "nbformat": 4,
 "nbformat_minor": 2,
 "cells": [
  {
   "cell_type": "code",
   "execution_count": 1,
   "metadata": {},
   "outputs": [],
   "source": [
    "from modules.MySES import MySES"
   ]
  },
  {
   "cell_type": "code",
   "execution_count": 2,
   "metadata": {},
   "outputs": [],
   "source": [
    "# Init Model\n",
    "model = MySES()"
   ]
  },
  {
   "cell_type": "code",
   "execution_count": 3,
   "metadata": {},
   "outputs": [
    {
     "output_type": "stream",
     "name": "stdout",
     "text": [
      "neutral     431\n",
      "negative    214\n",
      "positive    143\n",
      "Name: sentiment, dtype: int64\n",
      "Epoch 1/15\n",
      "16/16 [==============================] - 7s 410ms/step - loss: 1.0120 - accuracy: 0.5417 - val_loss: 1.0342 - val_accuracy: 0.4841\n",
      "Epoch 2/15\n",
      "16/16 [==============================] - 6s 376ms/step - loss: 0.9064 - accuracy: 0.6071 - val_loss: 0.9658 - val_accuracy: 0.5556\n",
      "Epoch 3/15\n",
      "16/16 [==============================] - 7s 452ms/step - loss: 0.8619 - accuracy: 0.6349 - val_loss: 0.9735 - val_accuracy: 0.5635\n",
      "Epoch 4/15\n",
      "16/16 [==============================] - 7s 441ms/step - loss: 0.7455 - accuracy: 0.6925 - val_loss: 1.1195 - val_accuracy: 0.5952\n",
      "Epoch 5/15\n",
      "16/16 [==============================] - 7s 440ms/step - loss: 0.6083 - accuracy: 0.7421 - val_loss: 1.1278 - val_accuracy: 0.5476\n",
      "Epoch 6/15\n",
      "16/16 [==============================] - 7s 463ms/step - loss: 0.5019 - accuracy: 0.7976 - val_loss: 1.2775 - val_accuracy: 0.5397\n",
      "Epoch 7/15\n",
      "16/16 [==============================] - 7s 460ms/step - loss: 0.4168 - accuracy: 0.8294 - val_loss: 1.6551 - val_accuracy: 0.5476\n",
      "Epoch 8/15\n",
      "16/16 [==============================] - 7s 441ms/step - loss: 0.3812 - accuracy: 0.8274 - val_loss: 1.4786 - val_accuracy: 0.5397\n",
      "Epoch 9/15\n",
      "16/16 [==============================] - 7s 442ms/step - loss: 0.2265 - accuracy: 0.9028 - val_loss: 2.2507 - val_accuracy: 0.5159\n",
      "Epoch 10/15\n",
      "16/16 [==============================] - 7s 446ms/step - loss: 0.1953 - accuracy: 0.9325 - val_loss: 2.4318 - val_accuracy: 0.5397\n",
      "Epoch 11/15\n",
      "16/16 [==============================] - 7s 444ms/step - loss: 0.2399 - accuracy: 0.9048 - val_loss: 2.6754 - val_accuracy: 0.5079\n",
      "Epoch 12/15\n",
      "16/16 [==============================] - 7s 449ms/step - loss: 0.2959 - accuracy: 0.8849 - val_loss: 2.2812 - val_accuracy: 0.5397\n",
      "Epoch 13/15\n",
      "16/16 [==============================] - 8s 476ms/step - loss: 0.1353 - accuracy: 0.9544 - val_loss: 2.9104 - val_accuracy: 0.5317\n",
      "Epoch 14/15\n",
      "16/16 [==============================] - 8s 506ms/step - loss: 0.0841 - accuracy: 0.9683 - val_loss: 2.9442 - val_accuracy: 0.5714\n",
      "Epoch 15/15\n",
      "16/16 [==============================] - 7s 454ms/step - loss: 0.0587 - accuracy: 0.9821 - val_loss: 3.3801 - val_accuracy: 0.5635\n",
      "WARNING:tensorflow:From /home/gama/.local/lib/python3.8/site-packages/tensorflow/python/training/tracking/tracking.py:111: Model.state_updates (from tensorflow.python.keras.engine.training) is deprecated and will be removed in a future version.\n",
      "Instructions for updating:\n",
      "This property should not be used in TensorFlow 2.0, as updates are applied automatically.\n",
      "WARNING:tensorflow:From /home/gama/.local/lib/python3.8/site-packages/tensorflow/python/training/tracking/tracking.py:111: Layer.updates (from tensorflow.python.keras.engine.base_layer) is deprecated and will be removed in a future version.\n",
      "Instructions for updating:\n",
      "This property should not be used in TensorFlow 2.0, as updates are applied automatically.\n",
      "INFO:tensorflow:Assets written to: modules/model/SentimentDetectorModel/assets\n",
      "Sentiment Detector Evaluation\n",
      "Classification Report : \n",
      "               precision    recall  f1-score   support\n",
      "\n",
      "           0       0.43      0.25      0.32        48\n",
      "           1       0.58      0.77      0.66        79\n",
      "           2       0.48      0.39      0.43        31\n",
      "\n",
      "   micro avg       0.54      0.54      0.54       158\n",
      "   macro avg       0.50      0.47      0.47       158\n",
      "weighted avg       0.51      0.54      0.51       158\n",
      " samples avg       0.54      0.54      0.54       158\n",
      "\n",
      "Confusion matrix : \n",
      " [[[ 94  16]\n",
      "  [ 36  12]]\n",
      "\n",
      " [[ 35  44]\n",
      "  [ 18  61]]\n",
      "\n",
      " [[114  13]\n",
      "  [ 19  12]]]\n",
      "Neutral    377\n",
      "Joy        182\n",
      "Sad        116\n",
      "Anger      113\n",
      "Name: emotion, dtype: int64\n",
      "Model: \"sequential_1\"\n",
      "_________________________________________________________________\n",
      "Layer (type)                 Output Shape              Param #   \n",
      "=================================================================\n",
      "embedding_1 (Embedding)      (None, 100, 100)          4000      \n",
      "_________________________________________________________________\n",
      "bidirectional_2 (Bidirection (None, 100, 400)          362400    \n",
      "_________________________________________________________________\n",
      "bidirectional_3 (Bidirection (None, 400)               722400    \n",
      "_________________________________________________________________\n",
      "dense_3 (Dense)              (None, 1024)              410624    \n",
      "_________________________________________________________________\n",
      "dense_4 (Dense)              (None, 512)               524800    \n",
      "_________________________________________________________________\n",
      "dense_5 (Dense)              (None, 4)                 2052      \n",
      "=================================================================\n",
      "Total params: 2,026,276\n",
      "Trainable params: 2,022,276\n",
      "Non-trainable params: 4,000\n",
      "_________________________________________________________________\n",
      "None\n",
      "Epoch 1/15\n",
      "9/9 [==============================] - 7s 832ms/step - loss: 1.2825 - accuracy: 0.4586 - val_loss: 1.3456 - val_accuracy: 0.3968\n",
      "Epoch 2/15\n",
      "9/9 [==============================] - 5s 533ms/step - loss: 1.2440 - accuracy: 0.5009 - val_loss: 1.3869 - val_accuracy: 0.3968\n",
      "Epoch 3/15\n",
      "9/9 [==============================] - 5s 576ms/step - loss: 1.2199 - accuracy: 0.5009 - val_loss: 1.4237 - val_accuracy: 0.3968\n",
      "Epoch 4/15\n",
      "9/9 [==============================] - 5s 543ms/step - loss: 1.2088 - accuracy: 0.5009 - val_loss: 1.3839 - val_accuracy: 0.3968\n",
      "Epoch 5/15\n",
      "9/9 [==============================] - 5s 546ms/step - loss: 1.1936 - accuracy: 0.5009 - val_loss: 1.4255 - val_accuracy: 0.3968\n",
      "Epoch 6/15\n",
      "9/9 [==============================] - 6s 675ms/step - loss: 1.1925 - accuracy: 0.5009 - val_loss: 1.4869 - val_accuracy: 0.3968\n",
      "Epoch 7/15\n",
      "9/9 [==============================] - 6s 633ms/step - loss: 1.1900 - accuracy: 0.5009 - val_loss: 1.4381 - val_accuracy: 0.3968\n",
      "Epoch 8/15\n",
      "9/9 [==============================] - 6s 646ms/step - loss: 1.1842 - accuracy: 0.5009 - val_loss: 1.5040 - val_accuracy: 0.3968\n",
      "Epoch 9/15\n",
      "9/9 [==============================] - 5s 602ms/step - loss: 1.1794 - accuracy: 0.5009 - val_loss: 1.4781 - val_accuracy: 0.3968\n",
      "Epoch 10/15\n",
      "9/9 [==============================] - 6s 619ms/step - loss: 1.1807 - accuracy: 0.5009 - val_loss: 1.5098 - val_accuracy: 0.3968\n",
      "Epoch 11/15\n",
      "9/9 [==============================] - 6s 689ms/step - loss: 1.1727 - accuracy: 0.5009 - val_loss: 1.4921 - val_accuracy: 0.3968\n",
      "Epoch 12/15\n",
      "9/9 [==============================] - 5s 609ms/step - loss: 1.1674 - accuracy: 0.5062 - val_loss: 1.5873 - val_accuracy: 0.3968\n",
      "Epoch 13/15\n",
      "9/9 [==============================] - 5s 587ms/step - loss: 1.1643 - accuracy: 0.5062 - val_loss: 1.5131 - val_accuracy: 0.3968\n",
      "Epoch 14/15\n",
      "9/9 [==============================] - 5s 576ms/step - loss: 1.1553 - accuracy: 0.5062 - val_loss: 1.6266 - val_accuracy: 0.3968\n",
      "Epoch 15/15\n",
      "9/9 [==============================] - 5s 581ms/step - loss: 1.1575 - accuracy: 0.5062 - val_loss: 1.6093 - val_accuracy: 0.3968\n",
      "INFO:tensorflow:Assets written to: modules/model/EmotionDetectorModel/assets\n",
      "Emotion Detector Evaluation\n",
      "Classification Report : \n",
      "               precision    recall  f1-score   support\n",
      "\n",
      "           0       0.00      0.00      0.00        28\n",
      "           1       0.00      0.00      0.00        41\n",
      "           2       0.43      0.99      0.60        68\n",
      "           3       0.00      0.00      0.00        21\n",
      "\n",
      "   micro avg       0.42      0.42      0.42       158\n",
      "   macro avg       0.11      0.25      0.15       158\n",
      "weighted avg       0.19      0.42      0.26       158\n",
      " samples avg       0.42      0.42      0.42       158\n",
      "\n",
      "-------- Initiate Trainig --------\n",
      "Epoch 1/10\n",
      "16/16 [==============================] - 7s 426ms/step - loss: 0.4849 - accuracy: 0.8095 - val_loss: 0.3007 - val_accuracy: 0.9012\n",
      "Epoch 2/10\n",
      "16/16 [==============================] - 6s 345ms/step - loss: 0.3119 - accuracy: 0.8785 - val_loss: 0.3002 - val_accuracy: 0.8765\n",
      "Epoch 3/10\n",
      "16/16 [==============================] - 7s 416ms/step - loss: 0.2257 - accuracy: 0.9217 - val_loss: 0.2207 - val_accuracy: 0.9095\n",
      "Epoch 4/10\n",
      "16/16 [==============================] - 7s 413ms/step - loss: 0.1642 - accuracy: 0.9444 - val_loss: 0.1923 - val_accuracy: 0.9218\n",
      "Epoch 5/10\n",
      "16/16 [==============================] - 7s 412ms/step - loss: 0.1399 - accuracy: 0.9619 - val_loss: 0.2208 - val_accuracy: 0.9300\n",
      "Epoch 6/10\n",
      "16/16 [==============================] - 8s 518ms/step - loss: 0.1263 - accuracy: 0.9629 - val_loss: 0.2335 - val_accuracy: 0.9342\n",
      "Epoch 7/10\n",
      "16/16 [==============================] - 6s 386ms/step - loss: 0.1104 - accuracy: 0.9640 - val_loss: 0.2195 - val_accuracy: 0.9342\n",
      "Epoch 8/10\n",
      "16/16 [==============================] - 7s 450ms/step - loss: 0.1018 - accuracy: 0.9701 - val_loss: 0.2143 - val_accuracy: 0.9259\n",
      "Epoch 9/10\n",
      "16/16 [==============================] - 8s 510ms/step - loss: 0.0881 - accuracy: 0.9743 - val_loss: 0.2290 - val_accuracy: 0.9383\n",
      "Epoch 10/10\n",
      "16/16 [==============================] - 8s 470ms/step - loss: 0.1067 - accuracy: 0.9712 - val_loss: 0.2126 - val_accuracy: 0.9259\n",
      "Spam Detector Evaluation\n",
      "Classification Report : \n",
      "               precision    recall  f1-score   support\n",
      "\n",
      "           0       0.90      0.99      0.94       142\n",
      "           1       0.99      0.91      0.95       162\n",
      "\n",
      "    accuracy                           0.94       304\n",
      "   macro avg       0.94      0.95      0.94       304\n",
      "weighted avg       0.95      0.94      0.94       304\n",
      "\n",
      "Confusion matrix : \n",
      " [[140   2]\n",
      " [ 15 147]]\n",
      "INFO:tensorflow:Assets written to: modules/model/SpamDetectorModel/assets\n"
     ]
    }
   ],
   "source": [
    "# Train Model\n",
    "model.train()"
   ]
  },
  {
   "cell_type": "code",
   "execution_count": 4,
   "metadata": {},
   "outputs": [],
   "source": [
    "# Load Saved Model\n",
    "model_path = [\"modules/model/SentimentDetectorModel\",\"modules/model/EmotionDetectorModel\",\"modules/model/SpamDetectorModel\"]\n",
    "model.load_model(model_path)"
   ]
  },
  {
   "cell_type": "code",
   "execution_count": 5,
   "metadata": {},
   "outputs": [
    {
     "output_type": "stream",
     "name": "stdout",
     "text": [
      "Model: \"sequential\"\n_________________________________________________________________\nLayer (type)                 Output Shape              Param #   \n=================================================================\nembedding (Embedding)        (None, 100, 100)          291900    \n_________________________________________________________________\nbidirectional (Bidirectional (None, 100, 400)          362400    \n_________________________________________________________________\nbidirectional_1 (Bidirection (None, 400)               722400    \n_________________________________________________________________\ndense (Dense)                (None, 1024)              410624    \n_________________________________________________________________\ndense_1 (Dense)              (None, 512)               524800    \n_________________________________________________________________\ndense_2 (Dense)              (None, 3)                 1539      \n=================================================================\nTotal params: 2,313,663\nTrainable params: 2,313,663\nNon-trainable params: 0\n_________________________________________________________________\nModel: \"sequential_1\"\n_________________________________________________________________\nLayer (type)                 Output Shape              Param #   \n=================================================================\nembedding_1 (Embedding)      (None, 100, 100)          4000      \n_________________________________________________________________\nbidirectional_2 (Bidirection (None, 100, 400)          362400    \n_________________________________________________________________\nbidirectional_3 (Bidirection (None, 400)               722400    \n_________________________________________________________________\ndense_3 (Dense)              (None, 1024)              410624    \n_________________________________________________________________\ndense_4 (Dense)              (None, 512)               524800    \n_________________________________________________________________\ndense_5 (Dense)              (None, 4)                 2052      \n=================================================================\nTotal params: 2,026,276\nTrainable params: 2,026,276\nNon-trainable params: 0\n_________________________________________________________________\nModel: \"sequential_2\"\n_________________________________________________________________\nLayer (type)                 Output Shape              Param #   \n=================================================================\nembedding_2 (Embedding)      (None, 100, 100)          390200    \n_________________________________________________________________\nbidirectional_4 (Bidirection (None, 600)               723600    \n_________________________________________________________________\ndense_6 (Dense)              (None, 1)                 601       \n=================================================================\nTotal params: 1,114,401\nTrainable params: 1,114,401\nNon-trainable params: 0\n_________________________________________________________________\n"
     ]
    }
   ],
   "source": [
    "model.summary()"
   ]
  },
  {
   "cell_type": "code",
   "execution_count": 9,
   "metadata": {},
   "outputs": [
    {
     "output_type": "execute_result",
     "data": {
      "text/plain": [
       "[{'sent': 'negative'}, {'emot': 'Neutral'}, {'spam': 'spam'}]"
      ]
     },
     "metadata": {},
     "execution_count": 9
    }
   ],
   "source": [
    "# Predict\n",
    "sentence = \"Hello i'm waiting you in my channel here\"\n",
    "model.predict(sentence)"
   ]
  },
  {
   "cell_type": "code",
   "execution_count": null,
   "metadata": {},
   "outputs": [],
   "source": []
  }
 ]
}