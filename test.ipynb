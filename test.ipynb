{
 "metadata": {
  "language_info": {
   "codemirror_mode": {
    "name": "ipython",
    "version": 3
   },
   "file_extension": ".py",
   "mimetype": "text/x-python",
   "name": "python",
   "nbconvert_exporter": "python",
   "pygments_lexer": "ipython3",
   "version": "3.8.5-final"
  },
  "orig_nbformat": 2,
  "kernelspec": {
   "name": "python38264bita41e7facbbd14ee78b8cca321de94238",
   "display_name": "Python 3.8.2 64-bit"
  }
 },
 "nbformat": 4,
 "nbformat_minor": 2,
 "cells": [
  {
   "cell_type": "code",
   "execution_count": 1,
   "metadata": {},
   "outputs": [],
   "source": [
    "from modules.MySES import MySES"
   ]
  },
  {
   "cell_type": "code",
   "execution_count": 2,
   "metadata": {},
   "outputs": [],
   "source": [
    "# Init Model\n",
    "model = MySES()"
   ]
  },
  {
   "cell_type": "code",
   "execution_count": 3,
   "metadata": {},
   "outputs": [
    {
     "output_type": "stream",
     "name": "stdout",
     "text": [
      "neutral     431\n",
      "negative    214\n",
      "positive    143\n",
      "Name: sentiment, dtype: int64\n",
      "Epoch 1/15\n",
      "16/16 [==============================] - 7s 410ms/step - loss: 0.9957 - accuracy: 0.5734 - val_loss: 1.0529 - val_accuracy: 0.4762\n",
      "Epoch 2/15\n",
      "16/16 [==============================] - 7s 409ms/step - loss: 0.9131 - accuracy: 0.5794 - val_loss: 1.1899 - val_accuracy: 0.4841\n",
      "Epoch 3/15\n",
      "16/16 [==============================] - 7s 448ms/step - loss: 0.8490 - accuracy: 0.6429 - val_loss: 0.9931 - val_accuracy: 0.5397\n",
      "Epoch 4/15\n",
      "16/16 [==============================] - 7s 467ms/step - loss: 0.7365 - accuracy: 0.6885 - val_loss: 1.0938 - val_accuracy: 0.5476\n",
      "Epoch 5/15\n",
      "16/16 [==============================] - 7s 444ms/step - loss: 0.6230 - accuracy: 0.7500 - val_loss: 1.2460 - val_accuracy: 0.6111\n",
      "Epoch 6/15\n",
      "16/16 [==============================] - 8s 469ms/step - loss: 0.5067 - accuracy: 0.8135 - val_loss: 1.3930 - val_accuracy: 0.5556\n",
      "Epoch 7/15\n",
      "16/16 [==============================] - 8s 484ms/step - loss: 0.5058 - accuracy: 0.7897 - val_loss: 1.5268 - val_accuracy: 0.6111\n",
      "Epoch 8/15\n",
      "16/16 [==============================] - 8s 479ms/step - loss: 0.4038 - accuracy: 0.8492 - val_loss: 1.3364 - val_accuracy: 0.5714\n",
      "Epoch 9/15\n",
      "16/16 [==============================] - 7s 464ms/step - loss: 0.2660 - accuracy: 0.9008 - val_loss: 1.7066 - val_accuracy: 0.5714\n",
      "Epoch 10/15\n",
      "16/16 [==============================] - 7s 465ms/step - loss: 0.1907 - accuracy: 0.9286 - val_loss: 2.2486 - val_accuracy: 0.5079\n",
      "Epoch 11/15\n",
      "16/16 [==============================] - 8s 519ms/step - loss: 0.2239 - accuracy: 0.9067 - val_loss: 2.3970 - val_accuracy: 0.5397\n",
      "Epoch 12/15\n",
      "16/16 [==============================] - 8s 493ms/step - loss: 0.1648 - accuracy: 0.9345 - val_loss: 2.3365 - val_accuracy: 0.5079\n",
      "Epoch 13/15\n",
      "16/16 [==============================] - 7s 468ms/step - loss: 0.0872 - accuracy: 0.9722 - val_loss: 2.8031 - val_accuracy: 0.5952\n",
      "Epoch 14/15\n",
      "16/16 [==============================] - 7s 463ms/step - loss: 0.0733 - accuracy: 0.9683 - val_loss: 3.3301 - val_accuracy: 0.5873\n",
      "Epoch 15/15\n",
      "16/16 [==============================] - 8s 472ms/step - loss: 0.1371 - accuracy: 0.9583 - val_loss: 2.9965 - val_accuracy: 0.5317\n",
      "WARNING:tensorflow:From /home/gama/.local/lib/python3.8/site-packages/tensorflow/python/training/tracking/tracking.py:111: Model.state_updates (from tensorflow.python.keras.engine.training) is deprecated and will be removed in a future version.\n",
      "Instructions for updating:\n",
      "This property should not be used in TensorFlow 2.0, as updates are applied automatically.\n",
      "WARNING:tensorflow:From /home/gama/.local/lib/python3.8/site-packages/tensorflow/python/training/tracking/tracking.py:111: Layer.updates (from tensorflow.python.keras.engine.base_layer) is deprecated and will be removed in a future version.\n",
      "Instructions for updating:\n",
      "This property should not be used in TensorFlow 2.0, as updates are applied automatically.\n",
      "INFO:tensorflow:Assets written to: modules/model/SentimentDetectorModel/assets\n",
      "Sentiment Detector Evaluation\n",
      "Classification Report : \n",
      "               precision    recall  f1-score   support\n",
      "\n",
      "           0       0.44      0.25      0.32        48\n",
      "           1       0.57      0.85      0.68        79\n",
      "           2       0.43      0.19      0.27        31\n",
      "\n",
      "   micro avg       0.54      0.54      0.54       158\n",
      "   macro avg       0.48      0.43      0.42       158\n",
      "weighted avg       0.51      0.54      0.49       158\n",
      " samples avg       0.54      0.54      0.54       158\n",
      "\n",
      "Confusion matrix : \n",
      " [[[ 95  15]\n",
      "  [ 36  12]]\n",
      "\n",
      " [[ 29  50]\n",
      "  [ 12  67]]\n",
      "\n",
      " [[119   8]\n",
      "  [ 25   6]]]\n",
      "Neutral    376\n",
      "Joy        178\n",
      "Sad        121\n",
      "Anger      113\n",
      "Name: emotion, dtype: int64\n",
      "Epoch 1/15\n",
      "16/16 [==============================] - 7s 407ms/step - loss: 1.2620 - accuracy: 0.4663 - val_loss: 1.3061 - val_accuracy: 0.4206\n",
      "Epoch 2/15\n",
      "16/16 [==============================] - 7s 411ms/step - loss: 1.1748 - accuracy: 0.5060 - val_loss: 1.3744 - val_accuracy: 0.4206\n",
      "Epoch 3/15\n",
      "16/16 [==============================] - 7s 468ms/step - loss: 1.0877 - accuracy: 0.5060 - val_loss: 1.4494 - val_accuracy: 0.4206\n",
      "Epoch 4/15\n",
      "16/16 [==============================] - 7s 447ms/step - loss: 1.0055 - accuracy: 0.5317 - val_loss: 1.5111 - val_accuracy: 0.4286\n",
      "Epoch 5/15\n",
      "16/16 [==============================] - 7s 454ms/step - loss: 0.8933 - accuracy: 0.5595 - val_loss: 2.0863 - val_accuracy: 0.4444\n",
      "Epoch 6/15\n",
      "16/16 [==============================] - 9s 533ms/step - loss: 0.9240 - accuracy: 0.5794 - val_loss: 1.4458 - val_accuracy: 0.4841\n",
      "Epoch 7/15\n",
      "16/16 [==============================] - 9s 576ms/step - loss: 0.7753 - accuracy: 0.6032 - val_loss: 1.9520 - val_accuracy: 0.4444\n",
      "Epoch 8/15\n",
      "16/16 [==============================] - 8s 504ms/step - loss: 0.7057 - accuracy: 0.6210 - val_loss: 2.0411 - val_accuracy: 0.4365\n",
      "Epoch 9/15\n",
      "16/16 [==============================] - 8s 514ms/step - loss: 0.5989 - accuracy: 0.6567 - val_loss: 2.2084 - val_accuracy: 0.4206\n",
      "Epoch 10/15\n",
      "16/16 [==============================] - 7s 468ms/step - loss: 0.4771 - accuracy: 0.7659 - val_loss: 3.2932 - val_accuracy: 0.4841\n",
      "Epoch 11/15\n",
      "16/16 [==============================] - 8s 521ms/step - loss: 0.4336 - accuracy: 0.8274 - val_loss: 3.3144 - val_accuracy: 0.4683\n",
      "Epoch 12/15\n",
      "16/16 [==============================] - 7s 467ms/step - loss: 0.3368 - accuracy: 0.8730 - val_loss: 3.5994 - val_accuracy: 0.4841\n",
      "Epoch 13/15\n",
      "16/16 [==============================] - 7s 440ms/step - loss: 0.2865 - accuracy: 0.9008 - val_loss: 3.5290 - val_accuracy: 0.4762\n",
      "Epoch 14/15\n",
      "16/16 [==============================] - 7s 446ms/step - loss: 0.3050 - accuracy: 0.8829 - val_loss: 3.1523 - val_accuracy: 0.4603\n",
      "Epoch 15/15\n",
      "16/16 [==============================] - 7s 440ms/step - loss: 0.2325 - accuracy: 0.9087 - val_loss: 3.6676 - val_accuracy: 0.4841\n",
      "INFO:tensorflow:Assets written to: modules/model/EmotionDetectorModel/assets\n",
      "Emotion Detector Evaluation\n",
      "Classification Report : \n",
      "               precision    recall  f1-score   support\n",
      "\n",
      "           0       0.27      0.10      0.15        30\n",
      "           1       0.60      0.15      0.24        39\n",
      "           2       0.52      0.96      0.67        68\n",
      "           3       0.33      0.19      0.24        21\n",
      "\n",
      "   micro avg       0.49      0.49      0.49       158\n",
      "   macro avg       0.43      0.35      0.33       158\n",
      "weighted avg       0.47      0.49      0.41       158\n",
      " samples avg       0.49      0.49      0.49       158\n",
      "\n",
      "-------- Initiate Trainig --------\n",
      "Epoch 1/10\n",
      "16/16 [==============================] - 6s 363ms/step - loss: 0.4925 - accuracy: 0.7920 - val_loss: 0.2562 - val_accuracy: 0.9095\n",
      "Epoch 2/10\n",
      "16/16 [==============================] - 6s 357ms/step - loss: 0.3003 - accuracy: 0.8939 - val_loss: 0.2145 - val_accuracy: 0.9259\n",
      "Epoch 3/10\n",
      "16/16 [==============================] - 6s 355ms/step - loss: 0.2445 - accuracy: 0.9166 - val_loss: 0.2040 - val_accuracy: 0.9424\n",
      "Epoch 4/10\n",
      "16/16 [==============================] - 7s 448ms/step - loss: 0.1892 - accuracy: 0.9423 - val_loss: 0.1865 - val_accuracy: 0.9506\n",
      "Epoch 5/10\n",
      "16/16 [==============================] - 7s 433ms/step - loss: 0.1753 - accuracy: 0.9423 - val_loss: 0.1463 - val_accuracy: 0.9588\n",
      "Epoch 6/10\n",
      "16/16 [==============================] - 7s 406ms/step - loss: 0.1390 - accuracy: 0.9547 - val_loss: 0.2196 - val_accuracy: 0.9300\n",
      "Epoch 7/10\n",
      "16/16 [==============================] - 7s 439ms/step - loss: 0.1641 - accuracy: 0.9423 - val_loss: 0.1691 - val_accuracy: 0.9342\n",
      "Epoch 8/10\n",
      "16/16 [==============================] - 9s 567ms/step - loss: 0.1317 - accuracy: 0.9578 - val_loss: 0.1557 - val_accuracy: 0.9506\n",
      "Epoch 9/10\n",
      "16/16 [==============================] - 7s 450ms/step - loss: 0.1249 - accuracy: 0.9578 - val_loss: 0.1254 - val_accuracy: 0.9630\n",
      "Epoch 10/10\n",
      "16/16 [==============================] - 7s 447ms/step - loss: 0.1068 - accuracy: 0.9640 - val_loss: 0.1775 - val_accuracy: 0.9342\n",
      "Spam Detector Evaluation\n",
      "Classification Report : \n",
      "               precision    recall  f1-score   support\n",
      "\n",
      "           0       0.92      0.99      0.96       154\n",
      "           1       0.99      0.91      0.95       150\n",
      "\n",
      "    accuracy                           0.95       304\n",
      "   macro avg       0.96      0.95      0.95       304\n",
      "weighted avg       0.96      0.95      0.95       304\n",
      "\n",
      "Confusion matrix : \n",
      " [[153   1]\n",
      " [ 13 137]]\n",
      "INFO:tensorflow:Assets written to: modules/model/SpamDetectorModel/assets\n"
     ]
    }
   ],
   "source": [
    "# Train Model\n",
    "model.train()"
   ]
  },
  {
   "cell_type": "code",
   "execution_count": 7,
   "metadata": {},
   "outputs": [],
   "source": [
    "# Load Saved Model\n",
    "model_path = [\"modules/model/SentimentDetectorModel\",\"modules/model/EmotionDetectorModel\",\"modules/model/SpamDetectorModel\"]\n",
    "model.load_model(model_path)"
   ]
  },
  {
   "cell_type": "code",
   "execution_count": 9,
   "metadata": {},
   "outputs": [
    {
     "output_type": "error",
     "ename": "AttributeError",
     "evalue": "'MySentimentDetector' object has no attribute 'summary'",
     "traceback": [
      "\u001b[0;31m---------------------------------------------------------------------------\u001b[0m",
      "\u001b[0;31mAttributeError\u001b[0m                            Traceback (most recent call last)",
      "\u001b[0;32m<ipython-input-9-5f15418b3570>\u001b[0m in \u001b[0;36m<module>\u001b[0;34m\u001b[0m\n\u001b[0;32m----> 1\u001b[0;31m \u001b[0mmodel\u001b[0m\u001b[0;34m.\u001b[0m\u001b[0msummary\u001b[0m\u001b[0;34m(\u001b[0m\u001b[0;34m)\u001b[0m\u001b[0;34m\u001b[0m\u001b[0;34m\u001b[0m\u001b[0m\n\u001b[0m",
      "\u001b[0;32m/mnt/d/Documents/ITB/Semester 7/IF4072 Pemrosesan Bahasa Alami (NLP)/Tugas/temp2/Youtube_Comment_Analysis/modules/MySES.py\u001b[0m in \u001b[0;36msummary\u001b[0;34m(self)\u001b[0m\n\u001b[1;32m     16\u001b[0m         \u001b[0;32mfor\u001b[0m \u001b[0mmodule\u001b[0m \u001b[0;32min\u001b[0m \u001b[0mself\u001b[0m\u001b[0;34m.\u001b[0m\u001b[0mmodules\u001b[0m\u001b[0;34m:\u001b[0m\u001b[0;34m\u001b[0m\u001b[0;34m\u001b[0m\u001b[0m\n\u001b[1;32m     17\u001b[0m             \u001b[0;32mif\u001b[0m \u001b[0mmodule\u001b[0m \u001b[0;32mis\u001b[0m \u001b[0;32mnot\u001b[0m \u001b[0;32mNone\u001b[0m\u001b[0;34m:\u001b[0m\u001b[0;34m\u001b[0m\u001b[0;34m\u001b[0m\u001b[0m\n\u001b[0;32m---> 18\u001b[0;31m                 \u001b[0mmodule\u001b[0m\u001b[0;34m.\u001b[0m\u001b[0mmodel\u001b[0m\u001b[0;34m.\u001b[0m\u001b[0msummary\u001b[0m\u001b[0;34m(\u001b[0m\u001b[0;34m)\u001b[0m\u001b[0;34m\u001b[0m\u001b[0;34m\u001b[0m\u001b[0m\n\u001b[0m\u001b[1;32m     19\u001b[0m \u001b[0;34m\u001b[0m\u001b[0m\n\u001b[1;32m     20\u001b[0m     \u001b[0;32mdef\u001b[0m \u001b[0mload_model\u001b[0m\u001b[0;34m(\u001b[0m\u001b[0mself\u001b[0m\u001b[0;34m,\u001b[0m \u001b[0mfilename_list\u001b[0m\u001b[0;34m)\u001b[0m\u001b[0;34m:\u001b[0m\u001b[0;34m\u001b[0m\u001b[0;34m\u001b[0m\u001b[0m\n",
      "\u001b[0;31mAttributeError\u001b[0m: 'MySentimentDetector' object has no attribute 'summary'"
     ]
    }
   ],
   "source": [
    "model.summary()"
   ]
  },
  {
   "cell_type": "code",
   "execution_count": 10,
   "metadata": {},
   "outputs": [
    {
     "output_type": "stream",
     "name": "stdout",
     "text": [
      "[[0]]\nham\n"
     ]
    },
    {
     "output_type": "execute_result",
     "data": {
      "text/plain": [
       "[{'sent': 'negative'}, {'emot': 'Neutral'}, {'spam': 'ham'}]"
      ]
     },
     "metadata": {},
     "execution_count": 10
    }
   ],
   "source": [
    "# Predict\n",
    "sentence = \"This election is the worst election ever\"\n",
    "model.predict(sentence)"
   ]
  },
  {
   "cell_type": "code",
   "execution_count": null,
   "metadata": {},
   "outputs": [],
   "source": []
  }
 ]
}